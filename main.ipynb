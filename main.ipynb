{
 "cells": [
  {
   "cell_type": "code",
   "execution_count": 1,
   "id": "2acf69c4-2be5-47d0-9fbc-887a74601813",
   "metadata": {},
   "outputs": [],
   "source": [
    "from typing import Tuple\n",
    "\n",
    "import numpy as np\n",
    "from itertools import product\n",
    "import cv2"
   ]
  },
  {
   "cell_type": "code",
   "execution_count": null,
   "id": "112c6334-19b3-4189-9c73-7c9026d68317",
   "metadata": {},
   "outputs": [],
   "source": []
  },
  {
   "cell_type": "code",
   "execution_count": null,
   "id": "ed5e17e9-9cde-4327-ad7a-11572da1876d",
   "metadata": {},
   "outputs": [],
   "source": []
  },
  {
   "cell_type": "code",
   "execution_count": 2,
   "id": "6709f373-376a-4b97-8023-a8607c072ece",
   "metadata": {},
   "outputs": [],
   "source": [
    "#img = cv2.imread('P:\\\\DataScience\\\\motion_blur\\\\data\\\\5.jpg')\n",
    "#img = cv2.imread('P:\\\\DataScience\\\\motion_blur\\\\data\\\\12.webp')\n",
    "img = cv2.imread('P:\\\\DataScience\\\\motion_blur\\\\data\\\\4.jpg', cv2.IMREAD_UNCHANGED)"
   ]
  },
  {
   "cell_type": "code",
   "execution_count": 3,
   "id": "195563df-8012-4a2c-86c3-de6ca1a1948f",
   "metadata": {},
   "outputs": [],
   "source": [
    "cv2.imshow('current image', img)\n",
    "cv2.waitKey(0)\n",
    "cv2.destroyAllWindows()"
   ]
  },
  {
   "cell_type": "code",
   "execution_count": null,
   "id": "41ecda36-7c39-4df5-a7b4-551a2aceedec",
   "metadata": {},
   "outputs": [],
   "source": []
  },
  {
   "cell_type": "code",
   "execution_count": 4,
   "id": "0ee85345-0e34-435e-af16-8e584fd9bd9a",
   "metadata": {},
   "outputs": [
    {
     "data": {
      "text/plain": [
       "(405, 720, 3)"
      ]
     },
     "execution_count": 4,
     "metadata": {},
     "output_type": "execute_result"
    }
   ],
   "source": [
    "img.shape"
   ]
  },
  {
   "cell_type": "code",
   "execution_count": null,
   "id": "79adf3ed-e781-468f-8946-af2bbfd8157f",
   "metadata": {},
   "outputs": [],
   "source": []
  },
  {
   "cell_type": "code",
   "execution_count": 5,
   "id": "d3a9f522-ba9f-48d3-855b-51c215ea9320",
   "metadata": {},
   "outputs": [
    {
     "data": {
      "text/plain": [
       "numpy.ndarray"
      ]
     },
     "execution_count": 5,
     "metadata": {},
     "output_type": "execute_result"
    }
   ],
   "source": [
    "type(img)"
   ]
  },
  {
   "cell_type": "code",
   "execution_count": 6,
   "id": "d86f9847-2d0b-449c-bfe0-7239f5fe8606",
   "metadata": {},
   "outputs": [],
   "source": [
    "img2 = cv2.cvtColor(img, cv2.COLOR_BGR2GRAY)"
   ]
  },
  {
   "cell_type": "code",
   "execution_count": 7,
   "id": "86485506-bf7f-4625-bcb7-628658c26af4",
   "metadata": {},
   "outputs": [],
   "source": [
    "cv2.imshow('current image', img2)\n",
    "cv2.waitKey(0)\n",
    "cv2.destroyAllWindows()"
   ]
  },
  {
   "cell_type": "code",
   "execution_count": null,
   "id": "d79f20c1-79e7-478e-bded-7d1509331e7a",
   "metadata": {},
   "outputs": [],
   "source": []
  },
  {
   "cell_type": "code",
   "execution_count": 8,
   "id": "380cfd9c-5659-4864-b177-5752efbb9cf7",
   "metadata": {},
   "outputs": [],
   "source": [
    "def add_color(src: np.ndarray, dest: np.ndarray, \n",
    "             pt_lu: Tuple[int, int], pt_rb: Tuple[int, int]\n",
    "            ) -> np.ndarray:\n",
    "    \"\"\"\n",
    "    \"\"\"\n",
    "    add_img = src[pt_lu[1]: pt_rb[1], pt_lu[0]:pt_rb[0], :]\n",
    "    dest[pt_lu[1]: pt_rb[1], pt_lu[0]:pt_rb[0], :] = add_img\n",
    "    \n",
    "    return dest\n",
    "\n",
    "\n",
    "\n",
    "def add_gray(src: np.ndarray, dest: np.ndarray, \n",
    "             pt_lu: Tuple[int, int], pt_rb: Tuple[int, int]\n",
    "            ) -> np.ndarray:\n",
    "    \"\"\"\n",
    "    \"\"\"\n",
    "    add_img = src[pt_lu[1]: pt_rb[1], pt_lu[0]:pt_rb[0], :]\n",
    "    add_img = cv2.cvtColor(add_img, cv2.COLOR_BGR2GRAY)\n",
    "    dest[pt_lu[1]: pt_rb[1], pt_lu[0]:pt_rb[0], 0] = add_img\n",
    "    dest[pt_lu[1]: pt_rb[1], pt_lu[0]:pt_rb[0], 1] = add_img\n",
    "    dest[pt_lu[1]: pt_rb[1], pt_lu[0]:pt_rb[0], 2] = add_img\n",
    "\n",
    "    return dest"
   ]
  },
  {
   "cell_type": "code",
   "execution_count": null,
   "id": "b4aa1787-b54e-4828-b67b-fd96c4d40e45",
   "metadata": {},
   "outputs": [],
   "source": []
  },
  {
   "cell_type": "code",
   "execution_count": null,
   "id": "4603435d-0f4e-4cfa-9bc9-fd7a563bcc7a",
   "metadata": {},
   "outputs": [],
   "source": []
  },
  {
   "cell_type": "code",
   "execution_count": 9,
   "id": "602947c6-df47-4f7c-93d9-7b44846b86d2",
   "metadata": {},
   "outputs": [],
   "source": [
    "pt1 = (420, 5)\n",
    "pt2 = (600, 405)"
   ]
  },
  {
   "cell_type": "code",
   "execution_count": 10,
   "id": "dcd5daea-960e-4ee8-a9bb-723829c72374",
   "metadata": {},
   "outputs": [
    {
     "data": {
      "text/plain": [
       "(420, 600, 5, 405)"
      ]
     },
     "execution_count": 10,
     "metadata": {},
     "output_type": "execute_result"
    }
   ],
   "source": [
    "pt1[0], pt2[0], pt1[1], pt2[1]"
   ]
  },
  {
   "cell_type": "code",
   "execution_count": 11,
   "id": "84ca0f0d-80cb-4298-9bee-e6e0679dc9b3",
   "metadata": {},
   "outputs": [
    {
     "data": {
      "text/plain": [
       "405"
      ]
     },
     "execution_count": 11,
     "metadata": {},
     "output_type": "execute_result"
    }
   ],
   "source": [
    "img.shape[0]"
   ]
  },
  {
   "cell_type": "code",
   "execution_count": 12,
   "id": "76371dcc-c18d-4d4f-b0ba-cce543fc3a57",
   "metadata": {},
   "outputs": [],
   "source": [
    "img_gray = cv2.cvtColor(img, cv2.COLOR_BGR2GRAY)\n",
    "img_runners = img[pt1[1]: pt2[1], pt1[0]:pt2[0], :].copy()\n",
    "#img3 = cv2.rectangle(img3, pt1, pt2, color=(0, 255, 0), thickness=2)\n",
    "\n",
    "img_mesh = np.zeros_like(img)\n",
    "\n",
    "img_mesh[:,:,0] = img_gray\n",
    "img_mesh[:,:,1] = img_gray\n",
    "img_mesh[:,:,2] = img_gray\n",
    "\n",
    "#img_mesh[pt1[1]: pt2[1], pt1[0]:pt2[0], :] = img_runners\n",
    "img_mesh = add_color(img, img_mesh, pt1, pt2)\n",
    "#img_mesh = add_gray(img, img_mesh, pt1, pt2)"
   ]
  },
  {
   "cell_type": "code",
   "execution_count": 13,
   "id": "721bffc7-ce98-4a97-a1b9-7850c47b9977",
   "metadata": {},
   "outputs": [],
   "source": [
    "#cv2.imshow('current image', img_gray)\n",
    "cv2.imshow('current image', img_mesh)\n",
    "cv2.waitKey(0)\n",
    "cv2.destroyAllWindows()"
   ]
  },
  {
   "cell_type": "code",
   "execution_count": null,
   "id": "e0743800-ae7d-4915-922f-5eecdb9847e6",
   "metadata": {},
   "outputs": [],
   "source": []
  },
  {
   "cell_type": "code",
   "execution_count": null,
   "id": "44711332-14ca-41fb-a29e-7d4bc5fd91d7",
   "metadata": {},
   "outputs": [],
   "source": []
  },
  {
   "cell_type": "code",
   "execution_count": null,
   "id": "0425061a-bc20-46d8-8055-2f68dc8c70e7",
   "metadata": {},
   "outputs": [],
   "source": []
  },
  {
   "cell_type": "code",
   "execution_count": 21,
   "id": "509e55e3-cd91-42f4-9a5e-33ef68fb5c3a",
   "metadata": {},
   "outputs": [],
   "source": []
  },
  {
   "cell_type": "code",
   "execution_count": null,
   "id": "81ee929d-173c-421a-a75b-88319b8a8358",
   "metadata": {},
   "outputs": [],
   "source": []
  }
 ],
 "metadata": {
  "kernelspec": {
   "display_name": "mot_blur",
   "language": "python",
   "name": "mot_blur"
  },
  "language_info": {
   "codemirror_mode": {
    "name": "ipython",
    "version": 3
   },
   "file_extension": ".py",
   "mimetype": "text/x-python",
   "name": "python",
   "nbconvert_exporter": "python",
   "pygments_lexer": "ipython3",
   "version": "3.12.6"
  }
 },
 "nbformat": 4,
 "nbformat_minor": 5
}
